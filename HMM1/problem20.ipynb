{
 "cells": [
  {
   "cell_type": "code",
   "execution_count": 8,
   "metadata": {
    "collapsed": true
   },
   "outputs": [
    {
     "name": "stdout",
     "output_type": "stream",
     "text": [
      "3.4231648217695625e-35\n"
     ]
    }
   ],
   "source": [
    "class HMM():\n",
    "    def __init__(self, emitMatrix):\n",
    "        '''\n",
    "\n",
    "        :param transMatrix: Nested dictionary representing a transition matrix\n",
    "        key:value --> state: RowDictionary\n",
    "        Where RowDictionary is a dictionary that represents a single row in the matrix.\n",
    "        key:value --> state: transition pr\n",
    "        '''\n",
    "        self.emitMatrix = emitMatrix\n",
    "\n",
    "    def prPathGivenEmmision(self, path,emission):\n",
    "        '''\n",
    "        Finds the probability of path, path is a string that represents the hidden path of an HMM\n",
    "        :return: PR(path) as an int\n",
    "        '''\n",
    "        pr = 1\n",
    "        for i in range(len(path)):\n",
    "            pr *= self.emitMatrix[path[i]][emission[i]]\n",
    "\n",
    "        return pr\n",
    "\n",
    "def main(fName=''):\n",
    "    '''\n",
    "    Handles input/output. Generates transition matrix and path from input data and\n",
    "    runs prPath to find the probability of the given path\n",
    "    '''\n",
    "    with open(fName) as inFile:\n",
    "        lines = inFile.readlines()\n",
    "        emission = lines[0].strip()\n",
    "        alphabet = lines[2].strip().split()\n",
    "        path = lines[4].strip()\n",
    "        states = lines[6].strip().split()\n",
    "\n",
    "        emitMatrix = {}\n",
    "\n",
    "        # Generate the emission matrix from the given input\n",
    "        for i in range(len(states)):\n",
    "\n",
    "            row = lines[9+i].strip().split()\n",
    "\n",
    "            rowDictionary = {}\n",
    "            for j in range(len(alphabet)):\n",
    "                rowDictionary[alphabet[j]] = float(row[j+1])\n",
    "            emitMatrix[row[0]] = rowDictionary\n",
    "\n",
    "\n",
    "    hmm = HMM(emitMatrix)\n",
    "    print(hmm.prPathGivenEmmision(path,emission))\n",
    "\n",
    "\n",
    "if __name__ == '__main__':\n",
    "    main('problem20in.txt')"
   ]
  },
  {
   "cell_type": "markdown",
   "source": [
    "Probability of an Outcome Given a Hidden Path Problem\n",
    "\n",
    "Given: A string x, followed by the alphabet Σ from which x was constructed, followed by a hidden path π, followed by the states States and emission matrix Emission of an HMM (Σ, States, Transition, Emission).\n",
    "\n",
    "Return: The conditional probability Pr(x|π) that string x will be emitted by the HMM given the hidden path π."
   ],
   "metadata": {
    "collapsed": false
   }
  },
  {
   "cell_type": "markdown",
   "source": [],
   "metadata": {
    "collapsed": false
   }
  }
 ],
 "metadata": {
  "kernelspec": {
   "display_name": "Python 3",
   "language": "python",
   "name": "python3"
  },
  "language_info": {
   "codemirror_mode": {
    "name": "ipython",
    "version": 2
   },
   "file_extension": ".py",
   "mimetype": "text/x-python",
   "name": "python",
   "nbconvert_exporter": "python",
   "pygments_lexer": "ipython2",
   "version": "2.7.6"
  }
 },
 "nbformat": 4,
 "nbformat_minor": 0
}